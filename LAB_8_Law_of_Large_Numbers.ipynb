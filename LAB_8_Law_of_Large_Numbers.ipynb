{
 "cells": [
  {
   "cell_type": "code",
   "execution_count": 1,
   "metadata": {
    "colab": {},
    "colab_type": "code",
    "id": "waNNfLT_T-lv"
   },
   "outputs": [],
   "source": [
    "%matplotlib inline\n",
    "import numpy as np\n",
    "import matplotlib.pyplot as plt\n",
    "from scipy import misc\n",
    "from scipy.io import wavfile\n",
    "from numpy import linalg as la\n",
    "import matplotlib.image as mpimg\n",
    "import glob\n",
    "from numpy import linalg as LA\n",
    "import scipy.io as sio"
   ]
  },
  {
   "cell_type": "markdown",
   "metadata": {
    "colab_type": "text",
    "id": "EouDgG_YyD_q"
   },
   "source": [
    "## <font color='red'> 1. Experimentally prove weak law of large numbers. $$\\lim_{n\\to \\infty} P[\\vert M_n-m_x\\vert>\\epsilon]=0$$ Where, $M_n$ is the sample mean, $m_x$ is the actual mean, $\\epsilon$ is a small positive number and $n$ is the number of sample points.<font>"
   ]
  },
  {
   "cell_type": "code",
   "execution_count": 33,
   "metadata": {
    "colab": {
     "base_uri": "https://localhost:8080/",
     "height": 34
    },
    "colab_type": "code",
    "id": "-3b9txWwdPKq",
    "outputId": "1fd1dd93-9aa7-4e05-9d6a-7abb6d4a8c9a"
   },
   "outputs": [
    {
     "name": "stdout",
     "output_type": "stream",
     "text": [
      "0.751\n"
     ]
    }
   ],
   "source": [
    "x = []\n",
    "mx=0\n",
    "e = 0.01\n",
    "count = 0\n",
    "total = 1000\n",
    "for i in range(0,total):\n",
    "    x=np.random.normal(mx,1,1000)\n",
    "    if abs(mx-np.mean(x)) > e:\n",
    "        count += 1\n",
    "print(count/total)\n"
   ]
  },
  {
   "cell_type": "markdown",
   "metadata": {
    "colab_type": "text",
    "id": "hKMJRDFlzwzJ"
   },
   "source": [
    "## <font color='red'> 2. Experimentally prove strong law of large numbers. $$P[\\lim_{n\\to \\infty} M_n=m_x]=1,$$ Where, $M_n$ is the sample mean, $m_x$ is the actual mean, and $n$ is the number of sample points.<font>"
   ]
  },
  {
   "cell_type": "code",
   "execution_count": 22,
   "metadata": {
    "colab": {
     "base_uri": "https://localhost:8080/",
     "height": 547
    },
    "colab_type": "code",
    "id": "21MajmRmacR5",
    "outputId": "978bed27-f4cd-45b8-fdff-54d192978eef"
   },
   "outputs": [
    {
     "data": {
      "text/plain": [
       "<Figure size 432x288 with 0 Axes>"
      ]
     },
     "execution_count": 22,
     "metadata": {},
     "output_type": "execute_result"
    },
    {
     "data": {
      "image/png": "[encoded data removed]",
      "text/plain": [
       "<Figure size 432x288 with 1 Axes>"
      ]
     },
     "metadata": {
      "needs_background": "light"
     },
     "output_type": "display_data"
    },
    {
     "data": {
      "image/png": "[encoded data removed]",
      "text/plain": [
       "<Figure size 432x288 with 1 Axes>"
      ]
     },
     "metadata": {
      "needs_background": "light"
     },
     "output_type": "display_data"
    },
    {
     "data": {
      "text/plain": [
       "<Figure size 432x288 with 0 Axes>"
      ]
     },
     "metadata": {},
     "output_type": "display_data"
    }
   ],
   "source": [
    "x = []\n",
    "mx=0\n",
    "e = 0\n",
    "count = 0\n",
    "total = 10000\n",
    "itr = []\n",
    "Mn = []\n",
    "actual_mean = []\n",
    "\n",
    "for i in range(1,total):\n",
    "    x=np.random.normal(mx,1,i)\n",
    "    Mn.append(np.mean(x))\n",
    "    actual_mean.append(mx)\n",
    "    itr.append(i)\n",
    "        \n",
    "itr = np.array(itr)\n",
    "actual_mean = np.array(actual_mean)\n",
    "Mn = np.array(Mn)\n",
    "\n",
    "\n",
    "plt.figure()\n",
    "plt.plot(itr,actual_mean,label='actual_mean')\n",
    "plt.plot(itr,Mn,label='Mn')\n",
    "plt.legend()\n",
    "plt.figure()\n",
    "plt.plot(itr,Mn-actual_mean,label='error')\n",
    "plt.figure()\n"
   ]
  },
  {
   "cell_type": "markdown",
   "metadata": {
    "colab_type": "text",
    "id": "naVsJJPe7U4A"
   },
   "source": [
    "## <font color='red'> 3. Experimentally prove central limit theorem. $$\\frac{S_N-E[S_N]}{\\sqrt{var(S_N)}}=\\frac{\\sum_{i=1}^{N}{X_i}-\\sum_{i=1}^{N}{E[X_i]}}{\\sqrt{\\sum_{i=1}^{N}{var[X_i]}}}\\to N(0,1)$$,Where, $X_1, X_2, . . , X_N$ are  random variables with mean $E[X_i]$ and variance $var[X_i]$, $i=1,2,…, N$. <font>"
   ]
  },
  {
   "cell_type": "code",
   "execution_count": 35,
   "metadata": {
    "colab": {
     "base_uri": "https://localhost:8080/",
     "height": 1342
    },
    "colab_type": "code",
    "id": "cOZDJSCJAQSr",
    "outputId": "e259af19-46bb-43b3-92ee-17be31300a36"
   },
   "outputs": [
    {
     "data": {
      "text/plain": [
       "[<matplotlib.lines.Line2D at 0x7f551e551f90>]"
      ]
     },
     "execution_count": 35,
     "metadata": {},
     "output_type": "execute_result"
    },
    {
     "data": {
      "image/png": "[encoded data removed]",
      "text/plain": [
       "<Figure size 432x288 with 1 Axes>"
      ]
     },
     "metadata": {
      "needs_background": "light"
     },
     "output_type": "display_data"
    },
    {
     "data": {
      "text/plain": [
       "<Figure size 432x288 with 0 Axes>"
      ]
     },
     "metadata": {},
     "output_type": "display_data"
    },
    {
     "data": {
      "image/png": "[encoded data removed]",
      "text/plain": [
       "<Figure size 432x288 with 1 Axes>"
      ]
     },
     "metadata": {
      "needs_background": "light"
     },
     "output_type": "display_data"
    }
   ],
   "source": [
    "N=10 \n",
    "M=10000\n",
    "x = np.zeros([M,N])\n",
    "for i in range(0,N):\n",
    "    x[:,i] = np.random.normal(0,1,M)\n",
    "plt.hist(x[:,0],normed=True)\n",
    "plt.figure()\n",
    "Sn = np.sum(x,axis=1)\n",
    "Sn = (Sn - np.mean(Sn))/(np.std(Sn))\n",
    "plt.figure()\n",
    "plt.hist(Sn,normed=True)\n",
    "\n",
    "x=np.linspace(-4,4,1000)\n",
    "fx=(1/(np.sqrt(2*np.pi)))*np.exp((-x**2)/2);\n",
    "plt.plot(x,fx)"
   ]
  },
  {
   "cell_type": "code",
   "execution_count": 0,
   "metadata": {
    "colab": {},
    "colab_type": "code",
    "id": "fKS0BN55BpNh"
   },
   "outputs": [],
   "source": []
  }
 ],
 "metadata": {
  "colab": {
   "name": "LAB_8_Law of Large Numbers.ipynb",
   "provenance": []
  },
  "kernelspec": {
   "display_name": "Python 3",
   "language": "python",
   "name": "python3"
  },
  "language_info": {
   "codemirror_mode": {
    "name": "ipython",
    "version": 3
   },
   "file_extension": ".py",
   "mimetype": "text/x-python",
   "name": "python",
   "nbconvert_exporter": "python",
   "pygments_lexer": "ipython3",
   "version": "3.7.4"
  }
 },
 "nbformat": 4,
 "nbformat_minor": 1
}
